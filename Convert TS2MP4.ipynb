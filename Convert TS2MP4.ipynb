{
 "cells": [
  {
   "cell_type": "code",
   "execution_count": 8,
   "id": "16addd05-57c7-4318-a34e-a5982e4249d5",
   "metadata": {},
   "outputs": [
    {
     "name": "stdout",
     "output_type": "stream",
     "text": [
      "Moviepy - Building video converted_tesmusik1.mp4.\n",
      "MoviePy - Writing audio in converted_tesmusik1TEMP_MPY_wvf_snd.mp3\n"
     ]
    },
    {
     "name": "stderr",
     "output_type": "stream",
     "text": [
      "                                                                                                                       \r"
     ]
    },
    {
     "name": "stdout",
     "output_type": "stream",
     "text": [
      "MoviePy - Done.\n",
      "Moviepy - Writing video converted_tesmusik1.mp4\n",
      "\n"
     ]
    },
    {
     "name": "stderr",
     "output_type": "stream",
     "text": [
      "                                                                                                                       \r"
     ]
    },
    {
     "name": "stdout",
     "output_type": "stream",
     "text": [
      "Moviepy - Done !\n",
      "Moviepy - video ready converted_tesmusik1.mp4\n",
      "Video tesmusik1.ts telah dikonversi menjadi tesmusik1.mp4\n",
      "Moviepy - Building video converted_tesmusik2.mp4.\n",
      "MoviePy - Writing audio in converted_tesmusik2TEMP_MPY_wvf_snd.mp3\n"
     ]
    },
    {
     "name": "stderr",
     "output_type": "stream",
     "text": [
      "                                                                                                                       \r"
     ]
    },
    {
     "name": "stdout",
     "output_type": "stream",
     "text": [
      "MoviePy - Done.\n",
      "Moviepy - Writing video converted_tesmusik2.mp4\n",
      "\n"
     ]
    },
    {
     "name": "stderr",
     "output_type": "stream",
     "text": [
      "                                                                                                                       \r"
     ]
    },
    {
     "name": "stdout",
     "output_type": "stream",
     "text": [
      "Moviepy - Done !\n",
      "Moviepy - video ready converted_tesmusik2.mp4\n",
      "Video tesmusik2.ts telah dikonversi menjadi tesmusik2.mp4\n",
      "\n",
      "Semua video Anda telah berhasil dikonversi!\n"
     ]
    }
   ],
   "source": [
    "import moviepy.editor as mpe\n",
    "import glob, os\n",
    "\n",
    "files = []\n",
    "for pattern in ['*.ts', '**/*.ts', '**/**/*.ts', '**/**/**/*.ts']:\n",
    "    files.extend(glob.glob(pattern))\n",
    "\n",
    "for video in files:\n",
    "    if video in files:\n",
    "        filename = video\n",
    "        input_file = video\n",
    "        output_file = f\"converted_{os.path.splitext(filename)[0]}.mp4\"\n",
    "    else:\n",
    "        path = os.path.dirname(video)\n",
    "        filename = os.path.basename(video)\n",
    "        input_file = video\n",
    "        output_file = os.path.join(path, os.path.splitext(filename)[0] + '.mp4')\n",
    "\n",
    "    clip = mpe.VideoFileClip(input_file)\n",
    "    clip.write_videofile(output_file)\n",
    "\n",
    "    print(f\"Video {filename} telah dikonversi menjadi {os.path.splitext(filename)[0]}.mp4\") \n",
    "    \n",
    "print(\"\\nSemua video Anda telah berhasil dikonversi!\")\n"
   ]
  },
  {
   "cell_type": "code",
   "execution_count": null,
   "id": "f581fab2-2c8a-4f68-8790-a9a2bf0adafe",
   "metadata": {},
   "outputs": [],
   "source": []
  }
 ],
 "metadata": {
  "kernelspec": {
   "display_name": "Python 3 (ipykernel)",
   "language": "python",
   "name": "python3"
  },
  "language_info": {
   "codemirror_mode": {
    "name": "ipython",
    "version": 3
   },
   "file_extension": ".py",
   "mimetype": "text/x-python",
   "name": "python",
   "nbconvert_exporter": "python",
   "pygments_lexer": "ipython3",
   "version": "3.10.7"
  }
 },
 "nbformat": 4,
 "nbformat_minor": 5
}
